{
 "cells": [
  {
   "cell_type": "code",
   "execution_count": 1,
   "outputs": [],
   "source": [
    "import torch\n",
    "import torchvision\n",
    "import torchvision.transforms as transforms\n",
    "from torch.utils.data import DataLoader\n",
    "from torch.utils.data import sampler\n",
    "import torch.optim as optim\n",
    "import torch.nn as nn\n",
    "import torch.nn.functional as F\n",
    "from torch.utils.data import random_split\n",
    "import copy"
   ],
   "metadata": {
    "collapsed": false,
    "pycharm": {
     "name": "#%%\n"
    }
   }
  },
  {
   "cell_type": "code",
   "execution_count": 2,
   "outputs": [
    {
     "name": "stdout",
     "output_type": "stream",
     "text": [
      "using device: cpu\n",
      "Files already downloaded and verified\n",
      "训练集：45000，测试集：5000\n",
      "Files already downloaded and verified\n"
     ]
    }
   ],
   "source": [
    "batch_size = 64\n",
    "USE_GPU = torch.cuda.is_available()\n",
    "if USE_GPU:\n",
    "    device = torch.device('cuda')\n",
    "else:\n",
    "    device = torch.device('cpu')\n",
    "print('using device:', device)\n",
    "\n",
    "# 数据归一化\n",
    "cifar10_mean = (0.49,0.48,0.45)\n",
    "cifar10_std = (0.25,0.24,0.26)\n",
    "transform = transforms.Compose([\n",
    "    transforms.ToTensor(),\n",
    "    transforms.Normalize(cifar10_mean,cifar10_std)\n",
    "])\n",
    "\n",
    "# 训练集\n",
    "trainset = torchvision.datasets.CIFAR10(root='./data', train=True, download=True, transform=transform)\n",
    "\n",
    "# 划分训练集和验证集\n",
    "NUM_TRAIN = int(0.9*len(trainset)) # 训练集大小，剩余数据用作验证\n",
    "\n",
    "print('训练集：%d，测试集：%d' % (NUM_TRAIN,len(trainset)-NUM_TRAIN))\n",
    "\n",
    "trainloader = DataLoader(trainset, batch_size=batch_size,sampler=sampler.SubsetRandomSampler(range(NUM_TRAIN)))\n",
    "validateloader = DataLoader(trainset, batch_size=batch_size, sampler=sampler.SubsetRandomSampler(range(NUM_TRAIN, len(trainset))))\n",
    "\n",
    "# 测试集\n",
    "testset = torchvision.datasets.CIFAR10(root='./data', train=False, download=True, transform=transform)\n",
    "testloader = DataLoader(testset, batch_size=batch_size, shuffle=False, num_workers=2)\n",
    "\n",
    "classes = ('plane', 'car', 'bird', 'cat',\n",
    "           'deer', 'dog', 'frog', 'horse', 'ship', 'truck')"
   ],
   "metadata": {
    "collapsed": false,
    "pycharm": {
     "name": "#%%\n"
    }
   }
  },
  {
   "cell_type": "code",
   "execution_count": 3,
   "outputs": [],
   "source": [
    "# 验证模型在验证集或者测试集上的准确率\n",
    "def check_accuracy(loader, model):\n",
    "    if loader.dataset.train:\n",
    "        print('Checking accuracy on validation set')\n",
    "    else:\n",
    "        print('Checking accuracy on test set')\n",
    "    num_correct = 0\n",
    "    num_samples = 0\n",
    "    model.eval()   # set model to evaluation mode\n",
    "    with torch.no_grad():\n",
    "        for input, label in loader:\n",
    "            input = input.to(device=device, dtype=torch.float32)\n",
    "            label = label.to(device=device, dtype=torch.long)\n",
    "            scores = model(input)\n",
    "            _,pred = scores.max(1)\n",
    "            num_correct += (pred==label).sum()\n",
    "            num_samples += pred.size(0)\n",
    "        acc = float(num_correct) / num_samples\n",
    "        print('Got %d / %d correct (%.2f%%)' % (num_correct, num_samples, 100 * acc ))\n",
    "        return acc\n",
    "\n",
    "def train_model(model, optimizer, criterion, epochs, scheduler=None):\n",
    "    best_model_wts = None\n",
    "    best_acc = 0.0\n",
    "    model = model.to(device=device) # move the model parameters to CPU/GPU\n",
    "    for e in range(epochs):\n",
    "        if scheduler:\n",
    "            scheduler.step()\n",
    "        for t,(input, label) in enumerate(trainloader):\n",
    "            model.train()   # set model to training mode\n",
    "            input = input.to(device, dtype=torch.float32)\n",
    "            label = label.to(device, dtype=torch.long)\n",
    "\n",
    "            outputs = model(input)\n",
    "            loss = criterion(outputs, label)\n",
    "\n",
    "            optimizer.zero_grad()\n",
    "            loss.backward()\n",
    "            optimizer.step()\n",
    "\n",
    "        print('Epoch %d, loss=%.4f' % (e, loss.item()))\n",
    "        acc = check_accuracy(validateloader, model)\n",
    "        if acc > best_acc:\n",
    "            best_model_wts = copy.deepcopy(model.state_dict())\n",
    "            best_acc = acc\n",
    "    print('best_acc:%.2f%%' % (best_acc * 100))\n",
    "    model.load_state_dict(best_model_wts)\n",
    "    return model"
   ],
   "metadata": {
    "collapsed": false,
    "pycharm": {
     "name": "#%%\n"
    }
   }
  },
  {
   "cell_type": "code",
   "execution_count": 4,
   "outputs": [],
   "source": [
    "class MyModel(nn.Module):\n",
    "    def __init__(self) -> None:\n",
    "        super(MyModel, self).__init__()\n",
    "        self.conv1 = nn.Conv2d(3,16,kernel_size=3,padding=1)\n",
    "        self.batchnorm1 = nn.BatchNorm2d(16)\n",
    "        self.relu1 = nn.ReLU()\n",
    "        self.maxpool1 = nn.MaxPool2d(2,stride=2)\n",
    "\n",
    "        self.conv2 = nn.Conv2d(16,32,kernel_size=3,padding=1)\n",
    "        self.batchnorm2 = nn.BatchNorm2d(32)\n",
    "        self.relu2 = nn.ReLU()\n",
    "        self.maxpool2 = nn.MaxPool2d(2,stride=2)\n",
    "\n",
    "        self.conv3 = nn.Conv2d(32,32,kernel_size=3,padding=1)\n",
    "        self.batchnorm3 = nn.BatchNorm2d(32)\n",
    "        self.relu3 = nn.ReLU()\n",
    "        self.maxpool3 = nn.MaxPool2d(2,stride=2)\n",
    "\n",
    "        self.flatten = nn.Flatten()\n",
    "\n",
    "        self.liner1 = nn.Linear(32*4*4,128)\n",
    "        self.liner2 = nn.Linear(128,10)\n",
    "\n",
    "    def forward(self, x):\n",
    "        out = self.conv1(x)\n",
    "        out = self.batchnorm1(out)\n",
    "        out = self.relu1(out)\n",
    "        out = self.maxpool1(out)\n",
    "\n",
    "        out = self.conv2(out)\n",
    "        out = self.batchnorm2(out)\n",
    "        out = self.relu2(out)\n",
    "        out = self.maxpool2(out)\n",
    "\n",
    "        out = self.conv3(out)\n",
    "        out = self.batchnorm3(out)\n",
    "        out = self.relu3(out)\n",
    "        out = self.maxpool3(out)\n",
    "\n",
    "        out = self.flatten(out)\n",
    "        out = self.liner1(out)\n",
    "        out = self.liner2(out)\n",
    "\n",
    "        return out"
   ],
   "metadata": {
    "collapsed": false,
    "pycharm": {
     "name": "#%%\n"
    }
   }
  },
  {
   "cell_type": "code",
   "execution_count": 5,
   "outputs": [
    {
     "name": "stdout",
     "output_type": "stream",
     "text": [
      "Epoch 0, loss=0.8116\n",
      "Checking accuracy on validation set\n",
      "Got 3041 / 5000 correct (60.82%)\n",
      "Epoch 1, loss=1.0168\n",
      "Checking accuracy on validation set\n",
      "Got 3325 / 5000 correct (66.50%)\n",
      "Epoch 2, loss=0.6727\n",
      "Checking accuracy on validation set\n",
      "Got 3298 / 5000 correct (65.96%)\n",
      "Epoch 3, loss=1.2998\n",
      "Checking accuracy on validation set\n",
      "Got 3538 / 5000 correct (70.76%)\n",
      "Epoch 4, loss=1.1451\n",
      "Checking accuracy on validation set\n",
      "Got 3429 / 5000 correct (68.58%)\n",
      "Epoch 5, loss=0.8719\n",
      "Checking accuracy on validation set\n",
      "Got 3600 / 5000 correct (72.00%)\n",
      "Epoch 6, loss=0.7022\n",
      "Checking accuracy on validation set\n",
      "Got 3722 / 5000 correct (74.44%)\n",
      "Epoch 7, loss=1.4002\n",
      "Checking accuracy on validation set\n",
      "Got 3674 / 5000 correct (73.48%)\n",
      "Epoch 8, loss=0.6700\n",
      "Checking accuracy on validation set\n",
      "Got 3614 / 5000 correct (72.28%)\n",
      "Epoch 9, loss=1.2593\n",
      "Checking accuracy on validation set\n",
      "Got 3673 / 5000 correct (73.46%)\n",
      "best_acc:74.44%\n"
     ]
    }
   ],
   "source": [
    "lr = 0.01\n",
    "momentum = 0.9\n",
    "epochs = 10\n",
    "criterion = F.cross_entropy\n",
    "\n",
    "model = MyModel()\n",
    "optimizer = optim.SGD(model.parameters(), lr=lr, momentum=momentum, nesterov=True)\n",
    "model = train_model(model, optimizer, criterion, epochs)"
   ],
   "metadata": {
    "collapsed": false,
    "pycharm": {
     "name": "#%%\n"
    }
   }
  },
  {
   "cell_type": "code",
   "execution_count": 6,
   "outputs": [
    {
     "name": "stdout",
     "output_type": "stream",
     "text": [
      "Checking accuracy on test set\n",
      "Got 7264 / 10000 correct (72.64%)\n"
     ]
    },
    {
     "data": {
      "text/plain": "0.7264"
     },
     "execution_count": 6,
     "metadata": {},
     "output_type": "execute_result"
    }
   ],
   "source": [
    "check_accuracy(testloader, model)"
   ],
   "metadata": {
    "collapsed": false,
    "pycharm": {
     "name": "#%%\n"
    }
   }
  },
  {
   "cell_type": "code",
   "execution_count": 7,
   "outputs": [],
   "source": [
    "#保存模型\n",
    "PATH = './cifar_net.pth'\n",
    "torch.save(model.state_dict(), PATH)"
   ],
   "metadata": {
    "collapsed": false,
    "pycharm": {
     "name": "#%%\n"
    }
   }
  }
 ],
 "metadata": {
  "kernelspec": {
   "display_name": "Python 3",
   "language": "python",
   "name": "python3"
  },
  "language_info": {
   "codemirror_mode": {
    "name": "ipython",
    "version": 2
   },
   "file_extension": ".py",
   "mimetype": "text/x-python",
   "name": "python",
   "nbconvert_exporter": "python",
   "pygments_lexer": "ipython2",
   "version": "2.7.6"
  }
 },
 "nbformat": 4,
 "nbformat_minor": 0
}